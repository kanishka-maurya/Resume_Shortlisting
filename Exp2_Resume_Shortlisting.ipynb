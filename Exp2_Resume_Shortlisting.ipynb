{
 "cells": [
  {
   "cell_type": "code",
   "execution_count": 28,
   "metadata": {},
   "outputs": [],
   "source": [
    "import chromadb\n",
    "from chromadb.config import Settings"
   ]
  },
  {
   "cell_type": "code",
   "execution_count": 29,
   "metadata": {},
   "outputs": [],
   "source": [
    "import os\n",
    "from dotenv import load_dotenv\n",
    "load_dotenv()\n",
    "\n",
    "os.environ[\"GROQ_API_KEY\"] = os.getenv(\"GROQ_API_KEY\")"
   ]
  },
  {
   "cell_type": "code",
   "execution_count": 30,
   "metadata": {},
   "outputs": [],
   "source": [
    "import pdfplumber\n",
    "def extract_text_from_pdf(pdf_path):\n",
    "    text=\"\"\n",
    "    with pdfplumber.open(pdf_path) as pdf:\n",
    "        for page in pdf.pages:\n",
    "            page_text = page.extract_text()\n",
    "            if page_text:\n",
    "                text += page_text + \"\\n\"\n",
    "    return text\n"
   ]
  },
  {
   "cell_type": "code",
   "execution_count": 31,
   "metadata": {},
   "outputs": [],
   "source": [
    "from langchain_groq import ChatGroq\n",
    "from langchain.chains import LLMChain\n",
    "from prompts.extracted_text_prompt_template import Extracted_Prompt_Template\n",
    "\n",
    "llm = ChatGroq(\n",
    "    model_name=\"llama-3.3-70b-versatile\"\n",
    ")\n",
    "\n",
    "def cv_summary(extracted_text):\n",
    "    chain = LLMChain(llm=llm, prompt=Extracted_Prompt_Template)\n",
    "    summarized_text = chain.run(extracted_resume_text=extracted_text)\n",
    "    return summarized_text\n"
   ]
  },
  {
   "cell_type": "code",
   "execution_count": null,
   "metadata": {},
   "outputs": [],
   "source": [
    "import chromadb\n",
    "\n",
    "client = chromadb.PersistentClient(path=r\"c:\\\\Users\\\\kanis\\\\Resume_Shortlisting\")\n",
    "collection = client.get_or_create_collection(name=\"resumes\")"
   ]
  },
  {
   "cell_type": "code",
   "execution_count": 33,
   "metadata": {},
   "outputs": [
    {
     "name": "stderr",
     "output_type": "stream",
     "text": [
      "CropBox missing from /Page, defaulting to MediaBox\n",
      "CropBox missing from /Page, defaulting to MediaBox\n",
      "CropBox missing from /Page, defaulting to MediaBox\n",
      "CropBox missing from /Page, defaulting to MediaBox\n"
     ]
    }
   ],
   "source": [
    "extracted_text = extract_text_from_pdf(r\"C:\\Users\\kanis\\Resume_Shortlisting\\C1070.pdf\")\n",
    "summary = cv_summary(extracted_text)\n",
    "collection.add(\n",
    "        documents=[summary],\n",
    "        ids=[str(hash(summary))]\n",
    "    )"
   ]
  },
  {
   "cell_type": "code",
   "execution_count": 34,
   "metadata": {},
   "outputs": [
    {
     "name": "stderr",
     "output_type": "stream",
     "text": [
      "CropBox missing from /Page, defaulting to MediaBox\n",
      "CropBox missing from /Page, defaulting to MediaBox\n",
      "CropBox missing from /Page, defaulting to MediaBox\n",
      "CropBox missing from /Page, defaulting to MediaBox\n"
     ]
    }
   ],
   "source": [
    "extracted_text = extract_text_from_pdf(r\"C:\\Users\\kanis\\Resume_Shortlisting\\C1191.pdf\")\n",
    "summary = cv_summary(extracted_text)\n",
    "collection.add(\n",
    "        documents=[summary],\n",
    "        ids=[str(hash(summary))]\n",
    "    )"
   ]
  },
  {
   "cell_type": "code",
   "execution_count": 35,
   "metadata": {},
   "outputs": [
    {
     "name": "stderr",
     "output_type": "stream",
     "text": [
      "CropBox missing from /Page, defaulting to MediaBox\n",
      "CropBox missing from /Page, defaulting to MediaBox\n",
      "CropBox missing from /Page, defaulting to MediaBox\n",
      "CropBox missing from /Page, defaulting to MediaBox\n"
     ]
    }
   ],
   "source": [
    "extracted_text = extract_text_from_pdf(r\"C:\\Users\\kanis\\Resume_Shortlisting\\C1499.pdf\")\n",
    "summary = cv_summary(extracted_text)\n",
    "collection.add(\n",
    "        documents=[summary],\n",
    "        ids=[str(hash(summary))]\n",
    "    )"
   ]
  },
  {
   "cell_type": "code",
   "execution_count": 36,
   "metadata": {},
   "outputs": [
    {
     "name": "stderr",
     "output_type": "stream",
     "text": [
      "CropBox missing from /Page, defaulting to MediaBox\n",
      "CropBox missing from /Page, defaulting to MediaBox\n",
      "CropBox missing from /Page, defaulting to MediaBox\n",
      "CropBox missing from /Page, defaulting to MediaBox\n"
     ]
    }
   ],
   "source": [
    "extracted_text = extract_text_from_pdf(r\"C:\\Users\\kanis\\Resume_Shortlisting\\C1791.pdf\")\n",
    "summary = cv_summary(extracted_text)\n",
    "collection.add(\n",
    "        documents=[summary],\n",
    "        ids=[str(hash(summary))]\n",
    "    )"
   ]
  },
  {
   "cell_type": "code",
   "execution_count": 5,
   "metadata": {},
   "outputs": [],
   "source": [
    "from prompts.job_description_prompt_template import job_description\n",
    "import json\n",
    "import chromadb\n",
    "def query_vectorstore(job_description):\n",
    "    client = chromadb.PersistentClient(path=r\"c:\\\\Users\\\\kanis\\\\Resume_Shortlisting\")\n",
    "    collection = client.get_collection(name=\"resumes\")\n",
    "    # defining variables\n",
    "    num_vectors = collection.count()\n",
    "    num_vectors = int(0.8*(num_vectors))\n",
    "    results = collection.query(\n",
    "    query_texts=[job_description],  \n",
    "    n_results=num_vectors, \n",
    "    include=[\"documents\"]\n",
    "    )\n",
    "    documents = results.get(\"documents\")  \n",
    "    extracted_list = []\n",
    "    for doc in documents[0]:  \n",
    "        try:\n",
    "            doc_dict = json.loads(doc)  # using JSON parser \n",
    "            extracted_text = {\n",
    "                \"name\": doc_dict.get(\"Full Name\", \"N/A\"),\n",
    "                \"email\": doc_dict.get(\"Email\", \"N/A\")\n",
    "            }\n",
    "            extracted_list.append(extracted_text)\n",
    "        except Exception as e:\n",
    "            print(\"Error parsing document:\", doc)\n",
    "            print(\"Error:\", e)\n",
    "    return extracted_list\n",
    "    "
   ]
  },
  {
   "cell_type": "code",
   "execution_count": 6,
   "metadata": {},
   "outputs": [
    {
     "data": {
      "text/plain": [
       "[{'name': 'Scott Saunders', 'email': 'scottsaunders13@gmail.com'},\n",
       " {'name': 'Brian Hurley', 'email': 'brianhurley66@gmail.com'},\n",
       " {'name': 'Brian Hurley', 'email': 'brianhurley66@gmail.com'},\n",
       " {'name': 'April Duarte', 'email': 'aprilduarte34@gmail.com'},\n",
       " {'name': 'Scott Saunders', 'email': 'scottsaunders13@gmail.com'},\n",
       " {'name': 'April Duarte', 'email': 'aprilduarte34@gmail.com'}]"
      ]
     },
     "execution_count": 6,
     "metadata": {},
     "output_type": "execute_result"
    }
   ],
   "source": [
    "query_vectorstore( job_description)"
   ]
  },
  {
   "cell_type": "code",
   "execution_count": null,
   "metadata": {},
   "outputs": [],
   "source": [
    "import chromadb\n",
    "\n",
    "client = chromadb.PersistentClient(path=r\"c:\\\\Users\\\\kanis\\\\Resume_Shortlisting\")\n",
    "collection = client.get_or_create_collection(name=\"resumes\")\n",
    "\n",
    "def save_to_chromaDB(summarized_text):\n",
    "    collection.add(\n",
    "        documents=[summarized_text],\n",
    "        ids=[str(hash(summarized_text))]\n",
    "    )"
   ]
  },
  {
   "cell_type": "code",
   "execution_count": null,
   "metadata": {},
   "outputs": [],
   "source": [
    "# graphs/cv_graph.py\n",
    "from langgraph.graph import StateGraph, END\n",
    "from agents.cv_agents.file_extractor import extract_zip\n",
    "from agents.cv_agents.file_summarizer import cv_summary\n",
    "from agents.cv_agents.file_text_extractor import extract_text_from_pdf\n",
    "\n",
    "# Define graph state structure\n",
    "cv_graph_builder = StateGraph()\n",
    "\n",
    "cv_graph_builder.add_node(\"extract_pdf\", extract_zip)\n",
    "cv_graph_builder.add_node(\"extract_text\", extract_text_from_pdf)\n",
    "cv_graph_builder.add_node(\"summarize_cv\", cv_summary)\n",
    "cv_graph_builder.add_node(\"save_to_vectorstore\", save_to_chromaDB)\n",
    "\n",
    "cv_graph_builder.set_entry_point(\"extract_pdf\")\n",
    "cv_graph_builder.add_edge(\"extract_pdf\",\"extract_text\")\n",
    "cv_graph_builder.add_edge(\"extract_text\", \"summarize_cv\")\n",
    "cv_graph_builder.add_edge(\"summarize_cv\", \"save_to_vectorstore\")\n",
    "cv_graph_builder.add_edge(\"save_to_vectorstore\", END)\n",
    "\n",
    "cv_graph = cv_graph_builder.compile()"
   ]
  }
 ],
 "metadata": {
  "kernelspec": {
   "display_name": ".venv",
   "language": "python",
   "name": "python3"
  },
  "language_info": {
   "codemirror_mode": {
    "name": "ipython",
    "version": 3
   },
   "file_extension": ".py",
   "mimetype": "text/x-python",
   "name": "python",
   "nbconvert_exporter": "python",
   "pygments_lexer": "ipython3",
   "version": "3.12.3"
  }
 },
 "nbformat": 4,
 "nbformat_minor": 2
}
